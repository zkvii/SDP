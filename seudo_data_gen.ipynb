{
 "cells": [
  {
   "cell_type": "code",
   "execution_count": 1,
   "metadata": {},
   "outputs": [
    {
     "name": "stdout",
     "output_type": "stream",
     "text": [
      "13870950073\n"
     ]
    }
   ],
   "source": [
    "import random  \n",
    "  \n",
    "def generate_phone_number():  \n",
    "    while True:\n",
    "        # China's mobile phone numbers start with 13, 14, 15, 17, 18, or 19.  \n",
    "        # Here we use 13 as an example, you can change it as needed.  \n",
    "        first_two = '13'  \n",
    "        # Generate the next 9 digits randomly  \n",
    "        last_nine = ''.join(str(random.randint(0, 9)) for _ in range(9))  \n",
    "        yield first_two + last_nine  \n",
    "  \n",
    "\n",
    "print(next(generate_phone_number()))"
   ]
  },
  {
   "cell_type": "code",
   "execution_count": 2,
   "metadata": {},
   "outputs": [],
   "source": [
    "import random  \n",
    "import datetime  \n",
    "  \n",
    "def generate_id_number():  \n",
    "    while True:\n",
    "        # 随机生成地区代码  \n",
    "        area_code = str(random.randint(100000, 999999))  \n",
    "        \n",
    "        # 随机生成生日  \n",
    "        today = datetime.date.today()  \n",
    "        year = str(random.randint(1950, today.year))  \n",
    "        month = str(random.randint(1, 12))  \n",
    "        day = str(random.randint(1, 28))  \n",
    "        if day == '28' and month in ['2', '4', '6', '9', '11']:  \n",
    "            day = '29'  \n",
    "        elif day == '29' and month not in ['2', '4', '6', '9', '11']:  \n",
    "            day = '28'  \n",
    "        elif day == '31' and month not in ['1', '3', '5', '7', '8', '10', '12']:  \n",
    "            day = '30'  \n",
    "        birthdate = year + month + day  \n",
    "        \n",
    "        # 随机生成顺序号  \n",
    "        gender = random.choice(['男', '女'])  \n",
    "        if gender == '男':  \n",
    "            sequence_number = str(random.randint(1, 9))  \n",
    "        else:  \n",
    "            sequence_number = str(random.randint(0, 9))  \n",
    "        \n",
    "        # 计算校验码  \n",
    "        id_number = area_code + birthdate + sequence_number  \n",
    "        weight_factors = [7, 9, 10, 5, 8, 4, 2, 1, 6, 3, 7, 9, 10, 5, 8, 4, 2]  \n",
    "        check_code_dict = {0: '1', 1: '0', 2: 'X', 3: '9', 4: '8', 5: '7', 6: '6', 7: '5', 8: '4', 9: '3',10:'2'}  \n",
    "        check_sum = sum(int(a) * b for a, b in zip(id_number, weight_factors))  \n",
    "        check_code = check_code_dict[check_sum % 11]  \n",
    "        \n",
    "        # 添加校验码到身份证号码中  \n",
    "        id_number += check_code  \n",
    "        \n",
    "        yield id_number"
   ]
  },
  {
   "cell_type": "code",
   "execution_count": 3,
   "metadata": {},
   "outputs": [
    {
     "data": {
      "text/plain": [
       "'878989198482080'"
      ]
     },
     "execution_count": 3,
     "metadata": {},
     "output_type": "execute_result"
    }
   ],
   "source": [
    "next(generate_id_number())"
   ]
  },
  {
   "cell_type": "code",
   "execution_count": 4,
   "metadata": {},
   "outputs": [],
   "source": [
    "# 生成随机的信用卡号  \n",
    "def generate_credit_card_number():  \n",
    "    while True:\n",
    "    # 信用卡号通常由16位数字组成  \n",
    "        yield ''.join(str(random.randint(0, 9)) for _ in range(16))  \n",
    "  \n",
    "# 生成随机的银行卡号  \n",
    "def generate_bank_card_number(): \n",
    "    while True: \n",
    "    # 银行卡号通常由16位数字组成  \n",
    "        yield ''.join(str(random.randint(0, 9)) for _ in range(16))  \n",
    "  \n",
    "# 生成随机的QQ号  \n",
    "def generate_qq_number():  \n",
    "    # QQ号通常由5到12位的数字组成 \n",
    "    while True: \n",
    "        length = random.randint(5, 12)  \n",
    "        yield ''.join(str(random.randint(0, 9)) for _ in range(length))  \n",
    "  \n",
    "# 生成随机的微信号  \n",
    "def generate_weixin_number():  \n",
    "    # 微信号可以由6到20位的字母或数字组成  \n",
    "    while True:\n",
    "        length = random.randint(6, 20)  \n",
    "        characters = '0123456789abcdefghijklmnopqrstuvwxyzABCDEFGHIJKLMNOPQRSTUVWXYZ'  \n",
    "        yield ''.join(random.choice(characters) for _ in range(length)) "
   ]
  },
  {
   "cell_type": "code",
   "execution_count": 5,
   "metadata": {},
   "outputs": [],
   "source": [
    "import random\n",
    "\n",
    "# 姓氏列表\n",
    "surnames = [\"赵\", \"钱\", \"孙\", \"李\", \"周\", \"吴\", \"郑\", \"王\", \"冯\", \"陈\", \"褚\", \"卫\", \"蒋\", \"沈\", \"韩\", \"杨\", \"朱\", \"秦\", \"尤\", \"许\", \"何\", \"吕\", \"施\", \"张\", \"孔\", \"曹\", \"严\", \"华\", \"金\", \"魏\", \"陶\", \"姜\", \"戚\", \"谢\", \"邹\", \"喻\", \"柏\", \"水\", \"窦\", \"章\", \"云\", \"苏\", \"潘\", \"葛\", \"奚\"]\n",
    "\n",
    "# 常用名字列表\n",
    "names = [\"明\", \"红\", \"伟\", \"芳\", \"强\", \"静\", \"杰\", \"娟\", \"军\", \"丽\", \"勇\", \"秀\", \"刚\", \"洁\", \"平\", \"燕\", \"宇\", \"萍\", \"涛\", \"梅\"]\n",
    "\n",
    "def generate_chinese_name():\n",
    "    while True:\n",
    "        surname = random.choice(surnames)\n",
    "        name = random.choice(names)\n",
    "        yield surname + name\n",
    "\n",
    "# 生成随机的中国人名\n"
   ]
  },
  {
   "cell_type": "code",
   "execution_count": 2,
   "metadata": {},
   "outputs": [],
   "source": [
    "def psedo_item(weixin, qq, phone, id_number, credit_card_number, bank_card_number, chinese_name):\n",
    "    return [\n",
    "        f\"微信号{weixin}\",\n",
    "        f\"QQ号{qq}\",\n",
    "        f\"手机号{phone}\",\n",
    "        f\"身份证号{id_number}\",\n",
    "        f\"信用卡号{credit_card_number}\",\n",
    "        f\"银行卡号{bank_card_number}\",\n",
    "        f\"中文名{chinese_name}\",\n",
    "        f\"年龄{random.randint(1, 100)}\",\n",
    "        f\"性别{random.choice(['男', '女'])}\",\n",
    "    ]"
   ]
  },
  {
   "cell_type": "code",
   "execution_count": 3,
   "metadata": {},
   "outputs": [],
   "source": [
    "import random"
   ]
  },
  {
   "cell_type": "code",
   "execution_count": 12,
   "metadata": {},
   "outputs": [],
   "source": [
    "a=[1,2,3,4,5,6]\n",
    "random.shuffle(a)"
   ]
  },
  {
   "cell_type": "code",
   "execution_count": 13,
   "metadata": {},
   "outputs": [
    {
     "name": "stdout",
     "output_type": "stream",
     "text": [
      "[1, 2, 3, 6, 5, 4]\n"
     ]
    }
   ],
   "source": [
    "print(a)"
   ]
  },
  {
   "cell_type": "code",
   "execution_count": null,
   "metadata": {},
   "outputs": [],
   "source": [
    "def list_2_str(list_str):\n",
    "    random.shuffle(list_str)\n",
    "    cat_str=''\n",
    "    concat_symbol=['',' ','-','_','@','是'，'好']\n",
    "    for item in list_str:\n",
    "        cat_str=cat_str+item"
   ]
  },
  {
   "cell_type": "code",
   "execution_count": 7,
   "metadata": {},
   "outputs": [],
   "source": [
    "pseudo_privacy_data = []\n",
    "privacy_items=[]\n",
    "for _ in range(2000):\n",
    "    id_card = next(generate_id_number())\n",
    "    phone_number = next(generate_phone_number())\n",
    "    credit_card_number = next(generate_credit_card_number())\n",
    "    bank_card_number = next(generate_bank_card_number())\n",
    "    qq_number = next(generate_qq_number())\n",
    "    weixin_number = next(generate_weixin_number())\n",
    "    privacy_items.extend([id_card, phone_number, credit_card_number, bank_card_number, qq_number, weixin_number])\n",
    "    # pseduo_item=f\"身份证号码{id_card}手机号码{phone_number}信用卡号{credit_card_number}银行卡号{bank_card_number}QQ号{qq_number}微信号{weixin_number}\"\n",
    "    pseudo_item_dict=psedo_item(weixin_number, qq_number, phone_number, id_card, credit_card_number, bank_card_number, generate_chinese_name())\n",
    "    # pseudo_privacy_data.append(pseduo_item)\n",
    "    \n",
    "    # seudo_item = f\"{next(generate_chinese_name())}身份证号码{next(generate_id_number())}手机号码{next(generate_phone_number())}信用卡号{next(generate_credit_card_number())}银行卡号{next(generate_bank_card_number())}QQ号{next(generate_qq_number())}微信号{next(generate_weixin_number())}\"\n",
    "    # seudo_privacy_data.append(seudo_item)"
   ]
  },
  {
   "cell_type": "code",
   "execution_count": 8,
   "metadata": {},
   "outputs": [],
   "source": [
    "with open(\"./data/seudo_privacy_data.txt\", \"w\") as f:\n",
    "    f.write(\"\\n\".join(seudo_privacy_data))"
   ]
  },
  {
   "cell_type": "code",
   "execution_count": 19,
   "metadata": {},
   "outputs": [
    {
     "data": {
      "text/plain": [
       "'9492031967102474'"
      ]
     },
     "execution_count": 19,
     "metadata": {},
     "output_type": "execute_result"
    }
   ],
   "source": [
    "next(generate_id_number())"
   ]
  },
  {
   "cell_type": "code",
   "execution_count": 9,
   "metadata": {},
   "outputs": [],
   "source": [
    "from datasets import load_dataset\n",
    "\n",
    "dataset = load_dataset(\"qgyd2021/chinese_ner_sft\",'Bank')"
   ]
  },
  {
   "cell_type": "code",
   "execution_count": 10,
   "metadata": {},
   "outputs": [],
   "source": [
    "\n",
    "samples=dataset['train']['text']"
   ]
  },
  {
   "cell_type": "code",
   "execution_count": 11,
   "metadata": {},
   "outputs": [],
   "source": [
    "collection_1=[]\n",
    "collection_2=[]\n",
    "from random import choice\n",
    "for i in range(2000):\n",
    "    if i<200:\n",
    "        collection_1.append(choice(seudo_privacy_data))\n",
    "    else:\n",
    "        collection_1.append(choice(samples))\n"
   ]
  },
  {
   "cell_type": "code",
   "execution_count": 12,
   "metadata": {},
   "outputs": [],
   "source": [
    "\n",
    "for j in range(2000):\n",
    "    if i<200:\n",
    "        collection_2.append(choice(seudo_privacy_data))\n",
    "    else:\n",
    "        collection_2.append(choice(samples))"
   ]
  },
  {
   "cell_type": "code",
   "execution_count": 13,
   "metadata": {},
   "outputs": [
    {
     "data": {
      "text/plain": [
       "2000"
      ]
     },
     "execution_count": 13,
     "metadata": {},
     "output_type": "execute_result"
    }
   ],
   "source": [
    "len(collection_1)"
   ]
  },
  {
   "cell_type": "code",
   "execution_count": 15,
   "metadata": {},
   "outputs": [],
   "source": [
    "with open(\"./data/collection_1.txt\", \"w\") as f:\n",
    "    f.write(\"\\n\".join(collection_1))"
   ]
  },
  {
   "cell_type": "code",
   "execution_count": 16,
   "metadata": {},
   "outputs": [],
   "source": [
    "with open(\"./data/collection_2.txt\", \"w\") as f:\n",
    "    f.write(\"\\n\".join(collection_2))"
   ]
  },
  {
   "cell_type": "code",
   "execution_count": null,
   "metadata": {},
   "outputs": [],
   "source": []
  }
 ],
 "metadata": {
  "kernelspec": {
   "display_name": "ms_env",
   "language": "python",
   "name": "python3"
  },
  "language_info": {
   "codemirror_mode": {
    "name": "ipython",
    "version": 3
   },
   "file_extension": ".py",
   "mimetype": "text/x-python",
   "name": "python",
   "nbconvert_exporter": "python",
   "pygments_lexer": "ipython3",
   "version": "3.9.7"
  },
  "orig_nbformat": 4
 },
 "nbformat": 4,
 "nbformat_minor": 2
}
